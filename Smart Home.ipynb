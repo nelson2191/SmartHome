{
 "cells": [
  {
   "cell_type": "code",
   "execution_count": null,
   "metadata": {},
   "outputs": [],
   "source": [
    "#Smarthome\n",
    "\n",
    "#crear un usuario\n",
    "usuariosRegistrados=\"test\"\n",
    "contraseñaUsuario=\"1234\"\n",
    "confirmacionNuevaContraseña=\"1234\"\n",
    "\n",
    "usuario=input(\"Ingrese su usuario: \")\n",
    "if usuario==usuariosRegistrados:\n",
    "    contraseña=int(input(\"Ingrese su contraseña: \"))\n",
    "    print(usuariosRegistrados)\n",
    "    \n",
    "else: \n",
    "    nuevoUsuario=input(\"1. Usuario no registrado. Ingrese un nuevo usuario: \")\n",
    "    nueva_contraseña=int(input(\"Registre su contraseña: \"))\n",
    "    confirmacionNuevaContraseña=int(input(\"Confirme su contraseña: \"))\n",
    "\n",
    "#crear un menu de opciones\n",
    "opcion=0\n",
    "\n",
    "while opcion!=4:\n",
    "    print(\"Bienvenido. Escoja una opción: \")\n",
    "    print(\"1. Registrar un nuevo dispositivo \")\n",
    "    print(\"2. Registrar una casa \")\n",
    "    print(\"3. Registrar una nueva habitación \")\n",
    "    print(\"4. Salir \")\n",
    "    opcion=int(input(\"Seleccione la opción: \"))\n",
    "\n",
    "#registrar casa y dispositivo    \n",
    "    \n",
    "    if opcion==1:\n",
    "        dispositivoRegistrado= input(\"Ingrese el nombre del dispositivo que desea registrar: \")\n",
    "    elif opcion==2:\n",
    "        casaRegistrada=input(\"Ingrese el nombre de la casa que desea registrar\")\n",
    "    elif opcion==3:\n",
    "        habitacionRegistrada=input(\"Ingrese el nombre de la habitación\")\n",
    "    else:\n",
    "        break\n",
    "        "
   ]
  }
 ],
 "metadata": {
  "kernelspec": {
   "display_name": "Python 3",
   "language": "python",
   "name": "python3"
  },
  "language_info": {
   "codemirror_mode": {
    "name": "ipython",
    "version": 3
   },
   "file_extension": ".py",
   "mimetype": "text/x-python",
   "name": "python",
   "nbconvert_exporter": "python",
   "pygments_lexer": "ipython3",
   "version": "3.7.4"
  }
 },
 "nbformat": 4,
 "nbformat_minor": 2
}
